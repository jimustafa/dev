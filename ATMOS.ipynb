{
 "cells": [
  {
   "cell_type": "code",
   "execution_count": null,
   "metadata": {},
   "outputs": [],
   "source": [
    "#Modtran Plots\n",
    "import matplotlib.pyplot as plt\n",
    "import numpy as np\n",
    "import math\n",
    "\n",
    "\n",
    "file1 = open('ModtranDataTransposed.csv', 'r') \n",
    "MTD = np.loadtxt('ModtranDataTransposed.csv', delimiter=',')\n",
    "file1.close()\n",
    "#MTD-T= np.transpose(MTD)  \n",
    "mtnum = int(input(\"input desired atm number(0 to 19):\"))\n",
    "\n",
    "#step out wavelenghts, match array size of L to wvl\n",
    "lowl = 1.0\n",
    "upl=15.025\n",
    "step=0.025\n",
    "wvl = np.arange(lowl, upl, step)\n",
    "#print (len(wvl), len(MTD[mtnum]))\n",
    "\n",
    "# plot \n",
    "plt.figure(figsize=(10,6)) # 10 is width, 6 is height\n",
    "plt.axis([1.0, 15.0,0,1.0])\n",
    "plt.grid(True)\n",
    "plt.plot(wvl,MTD[mtnum],'r')\n",
    "#plt.plot(MTD[2],'b')\n",
    "#plt.plot(MTD[3],'g')\n",
    "plt.title('Modtran Results')  \n",
    "plt.xlabel('Wavelenght')\n",
    "plt.ylabel('Transmission')\n",
    "\n",
    "plt.show()   \n",
    "\n",
    "# log plot \n",
    "plt.figure(figsize=(10,6)) # 10 is width, 6 is height\n",
    "plt.axis([1.0, 15.0,1E-06,1.0])\n",
    "plt.grid(True)\n",
    "plt.plot(wvl,MTD[mtnum],'r')\n",
    "plt.title('Modtran Results')  \n",
    "plt.xlabel('Wavelenght')\n",
    "plt.ylabel('Transmission')\n",
    "plt.yscale('log')\n",
    "\n",
    "plt.show()\n"
   ]
  }
 ],
 "metadata": {
  "kernelspec": {
   "display_name": "Python 3",
   "language": "python",
   "name": "python3"
  },
  "language_info": {
   "codemirror_mode": {
    "name": "ipython",
    "version": 3
   },
   "file_extension": ".py",
   "mimetype": "text/x-python",
   "name": "python",
   "nbconvert_exporter": "python",
   "pygments_lexer": "ipython3",
   "version": "3.7.7"
  }
 },
 "nbformat": 4,
 "nbformat_minor": 4
}
