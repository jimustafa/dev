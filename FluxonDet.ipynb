{
 "cells": [
  {
   "cell_type": "code",
   "execution_count": null,
   "metadata": {},
   "outputs": [],
   "source": [
    "\n",
    "#Flux on Detector\n",
    "import math\n",
    "import matplotlib.pyplot as plt\n",
    "import numpy as np\n",
    "from decimal import Decimal\n",
    "\n",
    "pi = math.pi\n",
    "Lsubband = float(input(\"Enter sub-band flux from prior step:\")) #result from previous caclulation - input by hand?\n",
    "Lsb = Lsubband #update to current variable set\n",
    "\n",
    "#Range not used for FULL IFOV\n",
    "#R = 5000.00 # range to target (meters) example 5KM\n",
    "\n",
    "D = float(input(\"Enter Aperture Diamter (Meters):\")) # diameter of aperature (meters) example 50mm\n",
    "p = float(input(\"Enter Pixel Pitch (Meters - ie 10E-06):\")) #pixel pitch (meters) example 10um\n",
    "f = float(input(\"Enter Effective Focal Lenght (Meters):\")) #EFL  (meters ) example 200mm\n",
    "\n",
    "#using equation 5.19 from redbook\n",
    "fn = f/D\n",
    "Flux = Lsb*(pi/4)*(p*D/f)**2\n",
    "print (\"Flux on Detector =\",Flux, \" Watts,  F/# = \",fn)\n",
    "\n",
    "#Sweep of f/# just because\n",
    "#ten points with design f/# fifth\n",
    "Fluxes= np.zeros(10)\n",
    "fns = np.zeros(10)\n",
    "for i in range(0,10):\n",
    "    fns[i] = f/D *((i+5)/10)\n",
    "    Fluxes[i] = Lsb*(pi/4)*(p/fns[i])**2\n",
    "    #print (\" f/# \",fns[i],'   Flux:',Fluxes[i])\n",
    "\n",
    "#make a vertical line\n",
    "vlinex = np.repeat(fn, 5)\n",
    "vliney = vlinex * 3\n",
    "count=0\n",
    "for i in vlinex:\n",
    "    vliney[count] = ((count)/3)*max(Fluxes)\n",
    "    #print (vlinex, vliney)\n",
    "    count+=1\n",
    "    \n",
    "#line plot with centerline result\n",
    "plt.figure(figsize=(9,5))\n",
    "plt.plot ( fns,Fluxes,'r')\n",
    "plt.grid(True)\n",
    "plt.plot (vlinex,vliney,'b:',linewidth=2.0)\n",
    "plt.plot(fn,Flux,'bv')\n",
    "plt.xlabel('Focal Ratio')\n",
    "plt.ylabel('Flux on Detector - Watts')\n",
    "plt.title('Flux vs F/#')\n",
    "#plt.xlim(0,max(fns))\n",
    "plt.ylim(0,1.1*max(Fluxes))\n",
    "Fluxd = float(\"{:.2E}\".format(Flux,4))\n",
    "plt.text(1.02*fn, 1.25*Flux, \" \" + str(Fluxd) + \"Watts\",color='blue')\n",
    "plt.show()\n"
   ]
  }
 ],
 "metadata": {
  "kernelspec": {
   "display_name": "Python 3",
   "language": "python",
   "name": "python3"
  },
  "language_info": {
   "codemirror_mode": {
    "name": "ipython",
    "version": 3
   },
   "file_extension": ".py",
   "mimetype": "text/x-python",
   "name": "python",
   "nbconvert_exporter": "python",
   "pygments_lexer": "ipython3",
   "version": "3.7.7"
  }
 },
 "nbformat": 4,
 "nbformat_minor": 4
}
